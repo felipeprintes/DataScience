{
 "cells": [
  {
   "cell_type": "code",
   "execution_count": 18,
   "metadata": {
    "collapsed": true
   },
   "outputs": [],
   "source": [
    "import pandas as pd\n",
    "import numpy as np\n",
    "from numpy import linalg as la"
   ]
  },
  {
   "cell_type": "code",
   "execution_count": 19,
   "metadata": {
    "collapsed": true
   },
   "outputs": [],
   "source": [
    "dados = pd.read_excel('excel_carros.xlsx')\n",
    "pesos = [0.25, 0.5, 0.15, 0.1]"
   ]
  },
  {
   "cell_type": "code",
   "execution_count": 20,
   "metadata": {},
   "outputs": [
    {
     "data": {
      "text/html": [
       "<div>\n",
       "<style>\n",
       "    .dataframe thead tr:only-child th {\n",
       "        text-align: right;\n",
       "    }\n",
       "\n",
       "    .dataframe thead th {\n",
       "        text-align: left;\n",
       "    }\n",
       "\n",
       "    .dataframe tbody tr th {\n",
       "        vertical-align: top;\n",
       "    }\n",
       "</style>\n",
       "<table border=\"1\" class=\"dataframe\">\n",
       "  <thead>\n",
       "    <tr style=\"text-align: right;\">\n",
       "      <th></th>\n",
       "      <th>carros</th>\n",
       "      <th>custo</th>\n",
       "      <th>consumo</th>\n",
       "      <th>conforto</th>\n",
       "      <th>motor</th>\n",
       "    </tr>\n",
       "  </thead>\n",
       "  <tbody>\n",
       "    <tr>\n",
       "      <th>0</th>\n",
       "      <td>uno</td>\n",
       "      <td>26000</td>\n",
       "      <td>12</td>\n",
       "      <td>2</td>\n",
       "      <td>1.4</td>\n",
       "    </tr>\n",
       "    <tr>\n",
       "      <th>1</th>\n",
       "      <td>ka</td>\n",
       "      <td>30000</td>\n",
       "      <td>13</td>\n",
       "      <td>5</td>\n",
       "      <td>1.2</td>\n",
       "    </tr>\n",
       "    <tr>\n",
       "      <th>2</th>\n",
       "      <td>gol</td>\n",
       "      <td>28000</td>\n",
       "      <td>10</td>\n",
       "      <td>3</td>\n",
       "      <td>1.4</td>\n",
       "    </tr>\n",
       "  </tbody>\n",
       "</table>\n",
       "</div>"
      ],
      "text/plain": [
       "  carros  custo  consumo  conforto  motor\n",
       "0    uno  26000       12         2    1.4\n",
       "1     ka  30000       13         5    1.2\n",
       "2    gol  28000       10         3    1.4"
      ]
     },
     "execution_count": 20,
     "metadata": {},
     "output_type": "execute_result"
    }
   ],
   "source": [
    "dados"
   ]
  },
  {
   "cell_type": "code",
   "execution_count": 21,
   "metadata": {},
   "outputs": [
    {
     "data": {
      "text/plain": [
       "[48579.831205964474, 20.322401432901575, 6.164414002968976, 2.3151673805580448]"
      ]
     },
     "execution_count": 21,
     "metadata": {},
     "output_type": "execute_result"
    }
   ],
   "source": [
    "vet3 = [la.norm(dados.values[0:,1]), la.norm(dados.values[0:,2]) ,la.norm(dados.values[0:,3]), la.norm(dados.values[0:,4])]\n",
    "vet3"
   ]
  },
  {
   "cell_type": "code",
   "execution_count": 22,
   "metadata": {},
   "outputs": [
    {
     "data": {
      "text/plain": [
       "array([[0.5352015302352019, 0.5904813975661475, 0.3244428422615251,\n",
       "        0.6047078979069521],\n",
       "       [0.6175402271944638, 0.6396881806966598, 0.8111071056538127,\n",
       "        0.5183210553488161],\n",
       "       [0.5763708787148328, 0.4920678313051229, 0.48666426339228763,\n",
       "        0.6047078979069521]], dtype=object)"
      ]
     },
     "execution_count": 22,
     "metadata": {},
     "output_type": "execute_result"
    }
   ],
   "source": [
    "normalizados = dados.values[0:,1:]/vet3\n",
    "normalizados"
   ]
  },
  {
   "cell_type": "code",
   "execution_count": 23,
   "metadata": {},
   "outputs": [
    {
     "data": {
      "text/html": [
       "<div>\n",
       "<style>\n",
       "    .dataframe thead tr:only-child th {\n",
       "        text-align: right;\n",
       "    }\n",
       "\n",
       "    .dataframe thead th {\n",
       "        text-align: left;\n",
       "    }\n",
       "\n",
       "    .dataframe tbody tr th {\n",
       "        vertical-align: top;\n",
       "    }\n",
       "</style>\n",
       "<table border=\"1\" class=\"dataframe\">\n",
       "  <thead>\n",
       "    <tr style=\"text-align: right;\">\n",
       "      <th></th>\n",
       "      <th>custo</th>\n",
       "      <th>consumo</th>\n",
       "      <th>conforto</th>\n",
       "      <th>motor</th>\n",
       "    </tr>\n",
       "  </thead>\n",
       "  <tbody>\n",
       "    <tr>\n",
       "      <th>0</th>\n",
       "      <td>0.535202</td>\n",
       "      <td>0.590481</td>\n",
       "      <td>0.324443</td>\n",
       "      <td>0.604708</td>\n",
       "    </tr>\n",
       "    <tr>\n",
       "      <th>1</th>\n",
       "      <td>0.61754</td>\n",
       "      <td>0.639688</td>\n",
       "      <td>0.811107</td>\n",
       "      <td>0.518321</td>\n",
       "    </tr>\n",
       "    <tr>\n",
       "      <th>2</th>\n",
       "      <td>0.576371</td>\n",
       "      <td>0.492068</td>\n",
       "      <td>0.486664</td>\n",
       "      <td>0.604708</td>\n",
       "    </tr>\n",
       "  </tbody>\n",
       "</table>\n",
       "</div>"
      ],
      "text/plain": [
       "      custo   consumo  conforto     motor\n",
       "0  0.535202  0.590481  0.324443  0.604708\n",
       "1   0.61754  0.639688  0.811107  0.518321\n",
       "2  0.576371  0.492068  0.486664  0.604708"
      ]
     },
     "execution_count": 23,
     "metadata": {},
     "output_type": "execute_result"
    }
   ],
   "source": [
    "\n",
    "df= pd.DataFrame(normalizados, columns=dados.columns[1:])\n",
    "df\n"
   ]
  },
  {
   "cell_type": "code",
   "execution_count": 24,
   "metadata": {},
   "outputs": [
    {
     "data": {
      "text/plain": [
       "array([[0.13380038255880047, 0.29524069878307374, 0.04866642633922876,\n",
       "        0.060470789790695215],\n",
       "       [0.15438505679861594, 0.3198440903483299, 0.12166606584807191,\n",
       "        0.051832105534881615],\n",
       "       [0.1440927196787082, 0.24603391565256144, 0.07299963950884314,\n",
       "        0.060470789790695215]], dtype=object)"
      ]
     },
     "execution_count": 24,
     "metadata": {},
     "output_type": "execute_result"
    }
   ],
   "source": [
    "#ponderando os dados\n",
    "pond = pesos * normalizados\n",
    "pond"
   ]
  },
  {
   "cell_type": "code",
   "execution_count": 25,
   "metadata": {
    "scrolled": true
   },
   "outputs": [
    {
     "data": {
      "text/html": [
       "<div>\n",
       "<style>\n",
       "    .dataframe thead tr:only-child th {\n",
       "        text-align: right;\n",
       "    }\n",
       "\n",
       "    .dataframe thead th {\n",
       "        text-align: left;\n",
       "    }\n",
       "\n",
       "    .dataframe tbody tr th {\n",
       "        vertical-align: top;\n",
       "    }\n",
       "</style>\n",
       "<table border=\"1\" class=\"dataframe\">\n",
       "  <thead>\n",
       "    <tr style=\"text-align: right;\">\n",
       "      <th></th>\n",
       "      <th>custo</th>\n",
       "      <th>consumo</th>\n",
       "      <th>conforto</th>\n",
       "      <th>motor</th>\n",
       "    </tr>\n",
       "  </thead>\n",
       "  <tbody>\n",
       "    <tr>\n",
       "      <th>0</th>\n",
       "      <td>0.1338</td>\n",
       "      <td>0.295241</td>\n",
       "      <td>0.0486664</td>\n",
       "      <td>0.0604708</td>\n",
       "    </tr>\n",
       "    <tr>\n",
       "      <th>1</th>\n",
       "      <td>0.154385</td>\n",
       "      <td>0.319844</td>\n",
       "      <td>0.121666</td>\n",
       "      <td>0.0518321</td>\n",
       "    </tr>\n",
       "    <tr>\n",
       "      <th>2</th>\n",
       "      <td>0.144093</td>\n",
       "      <td>0.246034</td>\n",
       "      <td>0.0729996</td>\n",
       "      <td>0.0604708</td>\n",
       "    </tr>\n",
       "  </tbody>\n",
       "</table>\n",
       "</div>"
      ],
      "text/plain": [
       "      custo   consumo   conforto      motor\n",
       "0    0.1338  0.295241  0.0486664  0.0604708\n",
       "1  0.154385  0.319844   0.121666  0.0518321\n",
       "2  0.144093  0.246034  0.0729996  0.0604708"
      ]
     },
     "execution_count": 25,
     "metadata": {},
     "output_type": "execute_result"
    }
   ],
   "source": [
    "dfPond = pd.DataFrame(pond,columns=dados.columns[1:])\n",
    "dfPond"
   ]
  },
  {
   "cell_type": "code",
   "execution_count": 57,
   "metadata": {},
   "outputs": [
    {
     "data": {
      "text/html": [
       "<div>\n",
       "<style>\n",
       "    .dataframe thead tr:only-child th {\n",
       "        text-align: right;\n",
       "    }\n",
       "\n",
       "    .dataframe thead th {\n",
       "        text-align: left;\n",
       "    }\n",
       "\n",
       "    .dataframe tbody tr th {\n",
       "        vertical-align: top;\n",
       "    }\n",
       "</style>\n",
       "<table border=\"1\" class=\"dataframe\">\n",
       "  <thead>\n",
       "    <tr style=\"text-align: right;\">\n",
       "      <th></th>\n",
       "      <th>PIs</th>\n",
       "      <th>NIs</th>\n",
       "    </tr>\n",
       "  </thead>\n",
       "  <tbody>\n",
       "    <tr>\n",
       "      <th>0</th>\n",
       "      <td>0.154385</td>\n",
       "      <td>0.133800</td>\n",
       "    </tr>\n",
       "    <tr>\n",
       "      <th>1</th>\n",
       "      <td>0.319844</td>\n",
       "      <td>0.246034</td>\n",
       "    </tr>\n",
       "    <tr>\n",
       "      <th>2</th>\n",
       "      <td>0.121666</td>\n",
       "      <td>0.048666</td>\n",
       "    </tr>\n",
       "    <tr>\n",
       "      <th>3</th>\n",
       "      <td>0.060471</td>\n",
       "      <td>0.051832</td>\n",
       "    </tr>\n",
       "  </tbody>\n",
       "</table>\n",
       "</div>"
      ],
      "text/plain": [
       "        PIs       NIs\n",
       "0  0.154385  0.133800\n",
       "1  0.319844  0.246034\n",
       "2  0.121666  0.048666\n",
       "3  0.060471  0.051832"
      ]
     },
     "execution_count": 57,
     "metadata": {},
     "output_type": "execute_result"
    }
   ],
   "source": [
    "df6 = pd.DataFrame(np.array(dfPond.max()), columns=['PIs'])\n",
    "df7 = pd.DataFrame(np.array(dfPond.min()), columns=['NIs'])\n",
    "PisNis=df6.join(df7)\n",
    "PisNis"
   ]
  },
  {
   "cell_type": "code",
   "execution_count": null,
   "metadata": {
    "collapsed": true
   },
   "outputs": [],
   "source": []
  }
 ],
 "metadata": {
  "kernelspec": {
   "display_name": "Python 3",
   "language": "python",
   "name": "python3"
  },
  "language_info": {
   "codemirror_mode": {
    "name": "ipython",
    "version": 3
   },
   "file_extension": ".py",
   "mimetype": "text/x-python",
   "name": "python",
   "nbconvert_exporter": "python",
   "pygments_lexer": "ipython3",
   "version": "3.6.2"
  }
 },
 "nbformat": 4,
 "nbformat_minor": 2
}
